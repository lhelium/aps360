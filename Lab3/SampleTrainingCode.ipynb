{
 "cells": [
  {
   "cell_type": "markdown",
   "metadata": {
    "colab_type": "text",
    "id": "X6WDvajSqIDs"
   },
   "source": [
    "# Lab 3: Gesture Recognition using Convolutional Neural Networks\n",
    "\n",
    "**Deadlines**: \n",
    "\n",
    "- Lab 3 Part A: February 6, 11:59pm\n",
    "- Lab 3 Part B: February 13, 11:59pm\n",
    "\n",
    "**Late Penalty**: There is a penalty-free grace period of one hour past the deadline. Any work that is submitted between 1 hour and 24 hours past the deadline will receive a 20% grade deduction. No other late work is accepted. Quercus submission time will be used, not your local computer time. You can submit your labs as many times as you want before the deadline, so please submit often and early.\n",
    "\n",
    "**Grading TAs**: \n",
    "- Lab 3 Part A: Geoff Donoghue  \n",
    "- Lab 3 Part B: Tianshi Cao\n",
    "\n",
    "This lab is based on an assignment developed by Prof. Lisa Zhang.\n",
    "\n",
    "This lab will be completed in two parts. In Part A you will you will gain experience gathering your own data set (specifically images of hand gestures), and understand the challenges involved in the data cleaning process. In Part B you will train a convolutional neural network to make classifications on different hand gestures. By the end of the lab, you should be able to:\n",
    "\n",
    "1. Generate and preprocess your own data\n",
    "2. Load and split data for training, validation and testing\n",
    "3. Train a Convolutional Neural Network\n",
    "4. Apply transfer learning to improve your model\n",
    "\n",
    "Note that for this lab we will not be providing you with any starter code. You should be able to take the code used in previous labs, tutorials and lectures and modify it accordingly to complete the tasks outlined below.\n",
    "\n",
    "### What to submit\n",
    "\n",
    "**Submission for Part A:**  \n",
    "Submit a zip file containing your images. Three images each of American Sign Language gestures for letters A - I (total of 27 images). You will be required to clean the images before submitting them. Details are provided under Part A of the handout.\n",
    "\n",
    "Individual image file names should follow the convention of student-number_Alphabet_file-number.jpg\n",
    "(e.g. 100343434_A_1.jpg).\n",
    "\n",
    "\n",
    "**Submission for Part B:**  \n",
    "Submit a PDF file containing all your code, outputs, and write-up\n",
    "from parts 1-5. You can produce a PDF of your Google Colab file by\n",
    "going to **File > Print** and then save as PDF. The Colab instructions\n",
    "has more information. Make sure to review the PDF submission to ensure that your answers are easy to read. Make sure that your text is not cut off at the margins. \n",
    "\n",
    "**Do not submit any other files produced by your code.**\n",
    "\n",
    "Include a link to your colab file in your submission.\n",
    "\n",
    "Please use Google Colab to complete this assignment. If you want to use Jupyter Notebook, please complete the assignment and upload your Jupyter Notebook file to Google Colab for submission. "
   ]
  },
  {
   "cell_type": "markdown",
   "metadata": {
    "colab_type": "text",
    "id": "LfiFE_WOqIDu"
   },
   "source": [
    "## Colab Link\n",
    "\n",
    "Include a link to your colab file here\n",
    "\n",
    "Colab Link: "
   ]
  },
  {
   "cell_type": "markdown",
   "metadata": {
    "colab_type": "text",
    "id": "kvTXpH_kqIDy"
   },
   "source": [
    "## Part A. Data Collection [10 pt]\n",
    "\n",
    "So far, we have worked with data sets that have been collected, cleaned, and curated by machine learning\n",
    "researchers and practitioners. Datasets like MNIST and CIFAR are often used as toy examples, both by\n",
    "students and by researchers testing new machine learning models.\n",
    "\n",
    "In the real world, getting a clean data set is never that easy. More than half the work in applying machine\n",
    "learning is finding, gathering, cleaning, and formatting your data set.\n",
    "\n",
    "The purpose of this lab is to help you gain experience gathering your own data set, and understand the\n",
    "challenges involved in the data cleaning process.\n",
    "\n",
    "### American Sign Language\n",
    "\n",
    "American Sign Language (ASL) is a complete, complex language that employs signs made by moving the\n",
    "hands combined with facial expressions and postures of the body. It is the primary language of many\n",
    "North Americans who are deaf and is one of several communication options used by people who are deaf or\n",
    "hard-of-hearing.\n",
    "\n",
    "The hand gestures representing English alphabet are shown below. This lab focuses on classifying a subset\n",
    "of these hand gesture images using convolutional neural networks. Specifically, given an image of a hand\n",
    "showing one of the letters A-I, we want to detect which letter is being represented.\n",
    "\n",
    "![alt text](https://www.disabled-world.com/pics/1/asl-alphabet.jpg)\n",
    "\n",
    "\n",
    "### Generating Data\n",
    "We will produce the images required for this lab by ourselves. Each student will collect, clean and submit\n",
    "three images each of Americal Sign Language gestures for letters A - I (total of 27 images)\n",
    "Steps involved in data collection\n",
    "\n",
    "1. Familiarize yourself with American Sign Language gestures for letters from A - I (9 letters).\n",
    "2. Ask your friend to take three pictures at slightly different orientation for each letter gesture using your\n",
    "mobile phone.\n",
    " - Ensure adequate lighting while you are capturing the images.\n",
    " - Use a white wall as your background.\n",
    " - Use your right hand to create gestures (for consistency).\n",
    " - Keep your right hand fairly apart from your body and any other obstructions.\n",
    " - Avoid having shadows on parts of your hand.\n",
    "3. Transfer the images to your laptop for cleaning.\n",
    "\n",
    "### Cleaning Data\n",
    "To simplify the machine learning the task, we will standardize the training images. We will make sure that\n",
    "all our images are of the same size (224 x 224 pixels RGB), and have the hand in the center of the cropped\n",
    "regions.\n",
    "\n",
    "You may use the following applications to crop and resize your images:\n",
    "\n",
    "**Mac**\n",
    "- Use Preview:\n",
    "– Holding down CMD + Shift will keep a square aspect ratio while selecting the hand area.\n",
    "– Resize to 224x224 pixels.\n",
    "\n",
    "**Windows 10**\n",
    "- Use Photos app to edit and crop the image and keep the aspect ratio a square.\n",
    "- Use Paint to resize the image to the final image size of 224x224 pixels.\n",
    "\n",
    "**Linux**\n",
    "- You can use GIMP, imagemagick, or other tools of your choosing.\n",
    "You may also use online tools such as http://picresize.com\n",
    "All the above steps are illustrative only. You need not follow these steps but following these will ensure that\n",
    "you produce a good quality dataset. You will be judged based on the quality of the images alone.\n",
    "Please do not edit your photos in any other way. You should not need to change the aspect ratio of your\n",
    "image. You also should not digitally remove the background or shadows—instead, take photos with a white\n",
    "background and minimal shadows.\n",
    "\n",
    "### Accepted Images\n",
    "Images will be accepted and graded based on the criteria below\n",
    "1. The final image should be size 224x224 pixels (RGB).\n",
    "2. The file format should be a .jpg file.\n",
    "3. The hand should be approximately centered on the frame.\n",
    "4. The hand should not be obscured or cut off.\n",
    "5. The photos follows the ASL gestures posted earlier.\n",
    "6. The photos were not edited in any other way (e.g. no electronic removal of shadows or background).\n",
    "\n",
    "### Submission\n",
    "Submit a zip file containing your images. There should be a total of 27 images (3 for each category)\n",
    "1. Individual image file names should follow the convention of student-number_Alphabet_file-number.jpg\n",
    "(e.g. 100343434_A_1.jpg)\n",
    "2. Zip all the images together and name it with the following convention: last-name_student-number.zip\n",
    "(e.g. last-name_100343434.zip).\n",
    "3. Submit the zipped folder.\n",
    "We will be anonymizing and combining the images that everyone submits. We will announce when the\n",
    "combined data set will be available for download.\n",
    "\n",
    "![alt text](https://github.com/UTNeural/APS360/blob/master/Gesture%20Images.PNG?raw=true)"
   ]
  },
  {
   "cell_type": "markdown",
   "metadata": {
    "colab_type": "text",
    "id": "bJxMgWGNqID2"
   },
   "source": [
    "## Part B. Building a CNN [50 pt]\n",
    "\n",
    "For this lab, we are not going to give you any starter code. You will be writing a convolutional neural network\n",
    "from scratch. You are welcome to use any code from previous labs, lectures and tutorials. You should also\n",
    "write your own code.\n",
    "\n",
    "You may use the PyTorch documentation freely. You might also find online tutorials helpful. However, all\n",
    "code that you submit must be your own.\n",
    "\n",
    "Make sure that your code is vectorized, and does not contain obvious inefficiencies (for example, unecessary\n",
    "for loops, or unnecessary calls to unsqueeze()). Ensure enough comments are included in the code so that\n",
    "your TA can understand what you are doing. It is your responsibility to show that you understand what you\n",
    "write.\n",
    "\n",
    "**This is much more challenging and time-consuming than the previous labs.** Make sure that you\n",
    "give yourself plenty of time by starting early. In particular, the earlier questions can be completed even if you\n",
    "do not yet have the full data set."
   ]
  },
  {
   "cell_type": "markdown",
   "metadata": {
    "colab_type": "text",
    "id": "MiDuQaAh56sT"
   },
   "source": [
    "### 1. Data Loading and Splitting 10 pt]\n",
    "\n",
    "Download the anonymized data provided from Quercus. Split the data into training, validation,\n",
    "and test sets.\n",
    "\n",
    "Note: Data splitting is not as trivial in this lab. We want our test set to closely resemble the setting in which\n",
    "our model will be used. In particular, our test set should contain hands that are never seen in training!\n",
    "\n",
    "Explain how you split the data, either by describing what you did, or by showing the code that you used.\n",
    "Justify your choice of splitting strategy. How many training, validation, and test images do you have?\n",
    "\n",
    "For loading the data, you can use plt.imread as in Lab 1, or any other method that you choose. You may find\n",
    "torchvision.datasets.ImageFolder helpful. (see https://pytorch.org/docs/master/torchvision/datasets.html#imagefolder\n",
    ") "
   ]
  },
  {
   "cell_type": "code",
   "execution_count": null,
   "metadata": {
    "colab": {
     "base_uri": "https://localhost:8080/",
     "height": 121
    },
    "colab_type": "code",
    "id": "vN7mxVTaQ9Pe",
    "outputId": "a26f4250-c45e-4eb0-f7ed-282b0cc046a3",
    "scrolled": true
   },
   "outputs": [],
   "source": [
    "#mount googledrive\n",
    "from google.colab import drive\n",
    "drive.mount('/content/gdrive')"
   ]
  },
  {
   "cell_type": "code",
   "execution_count": null,
   "metadata": {
    "colab": {
     "base_uri": "https://localhost:8080/",
     "height": 268
    },
    "colab_type": "code",
    "id": "WBrH5kBqRLa6",
    "outputId": "c0c870f6-a3ff-49e7-aaa7-005226392e68"
   },
   "outputs": [],
   "source": [
    "import torch\n",
    "import numpy as np\n",
    "\n",
    "import torchvision\n",
    "import torchvision.transforms as transforms\n",
    "import matplotlib.pyplot as plt\n",
    "\n",
    "from torch.utils.data.sampler import SubsetRandomSampler\n",
    "\n",
    "# location on Google Drive\n",
    "master_path = 'your google drive link /'\n",
    "\n",
    "# Transform Settings - Do not use RandomResizedCrop\n",
    "transform = transforms.Compose([transforms.Resize((224,224)), \n",
    "                                transforms.ToTensor()])\n",
    "\n",
    "# assumes three folders with 60% training, 20% validation and 20% testing samples\n",
    "train_dataset = torchvision.datasets.ImageFolder(master_path + 'train', transform=transform)\n",
    "val_dataset = torchvision.datasets.ImageFolder(master_path + 'val', transform=transform)\n",
    "test_dataset = torchvision.datasets.ImageFolder(master_path + 'test', transform=transform)\n",
    "\n",
    "# Prepare Dataloader\n",
    "batch_size = 27\n",
    "num_workers = 1\n",
    "\n",
    "train_loader = torch.utils.data.DataLoader(train_dataset, batch_size=batch_size, \n",
    "                                           num_workers=num_workers, shuffle=True)\n",
    "\n",
    "val_loader = torch.utils.data.DataLoader(val_dataset, batch_size=batch_size, \n",
    "                                           num_workers=num_workers, shuffle=True)\n",
    "\n",
    "test_loader = torch.utils.data.DataLoader(test_dataset, batch_size=batch_size, \n",
    "                                           num_workers=num_workers, shuffle=True)\n",
    "\n",
    "\n",
    "# select a small batch for sanity check\n",
    "#\n",
    "# ---- should be completed ----\n",
    "#\n",
    "#\n",
    "\n",
    "\n",
    "# Visualize some sample data\n",
    "classes = ['A', 'B', 'C', 'D', 'E', 'F', 'G', 'H', 'I']\n",
    "\n",
    "# obtain one batch of training images\n",
    "dataiter = iter(train_loader)\n",
    "images, labels = dataiter.next()\n",
    "images = images.numpy() # convert images to numpy for display\n",
    "\n",
    "# plot the images in the batch, along with the corresponding labels\n",
    "fig = plt.figure(figsize=(25, 4))\n",
    "for idx in np.arange(20):\n",
    "    ax = fig.add_subplot(2, 20/2, idx+1, xticks=[], yticks=[])\n",
    "    plt.imshow(np.transpose(images[idx], (1, 2, 0)))\n",
    "    ax.set_title(classes[labels[idx]])"
   ]
  },
  {
   "cell_type": "markdown",
   "metadata": {
    "colab_type": "text",
    "id": "5VWX4DGY5gQE"
   },
   "source": [
    "### 2. Model Building and Sanity Checking [15 pt]\n",
    "\n",
    "### Part (a) Convolutional Network - 5 pt\n",
    "\n",
    "Build a convolutional neural network model that takes the (224x224 RGB) image as input, and predicts the gesture\n",
    "letter. Your model should be a subclass of nn.Module. Explain your choice of neural network architecture: how\n",
    "many layers did you choose? What types of layers did you use? Were they fully-connected or convolutional?\n",
    "What about other decisions like pooling layers, activation functions, number of channels / hidden units?"
   ]
  },
  {
   "cell_type": "code",
   "execution_count": null,
   "metadata": {
    "colab": {},
    "colab_type": "code",
    "id": "2dtx1z5951fS"
   },
   "outputs": [],
   "source": [
    "# start point based on Lab 2 model\n",
    "\n",
    "import torch\n",
    "import torch.nn as nn\n",
    "import torch.nn.functional as F\n",
    "\n",
    "import matplotlib.pyplot as plt # for plotting\n",
    "import torch.optim as optim #for gradient descent\n",
    "\n",
    "torch.manual_seed(1) # set the random seed\n",
    "\n",
    "class CNNClassifier(nn.Module):\n",
    "    def __init__(self):\n",
    "        super(CNNClassifier, self).__init__()\n",
    "        self.conv1 = nn.Conv2d(3, 5, 5)\n",
    "        self.pool = nn.MaxPool2d(2, 2)\n",
    "        self.conv2 = nn.Conv2d(5, 10, 5)\n",
    "\n",
    "        self.fc1 = nn.Linear(10 * 53 * 53, 32)\n",
    "        self.fc2 = nn.Linear(32, 9)\n",
    "\n",
    "    def forward(self, img):\n",
    "        x = self.pool(F.relu(self.conv1(img)))\n",
    "        x = self.pool(F.relu(self.conv2(x)))\n",
    "        x = x.view(-1, 10 * 53 * 53)\n",
    "        x = F.relu(self.fc1(x))\n",
    "        x = self.fc2(x)\n",
    "        return x"
   ]
  },
  {
   "cell_type": "markdown",
   "metadata": {
    "colab_type": "text",
    "id": "XeGvelvb515e"
   },
   "source": [
    "### Part (b) Training Code - 5 pt\n",
    "\n",
    "Write code that trains your neural network given some training data. Your training code should make it easy\n",
    "to tweak the usual hyperparameters, like batch size, learning rate, and the model object itself. Make sure\n",
    "that you are checkpointing your models from time to time (the frequency is up to you). Explain your choice\n",
    "of loss function and optimizer."
   ]
  },
  {
   "cell_type": "code",
   "execution_count": null,
   "metadata": {
    "colab": {},
    "colab_type": "code",
    "id": "xhg5emvhO2OU"
   },
   "outputs": [],
   "source": [
    "def train(model, train_loader, val_loader, batch_size=27, num_epochs=1, learn_rate = 0.001):\n",
    "\n",
    "    torch.manual_seed(1000)\n",
    "    criterion = nn.CrossEntropyLoss()\n",
    "    optimizer = optim.Adam(model.parameters(), lr=learn_rate)\n",
    "\n",
    "    train_acc, val_acc = [], []\n",
    "\n",
    "    # training\n",
    "    print (\"Training Started...\")\n",
    "    n = 0 # the number of iterations\n",
    "    for epoch in range(num_epochs):\n",
    "        for imgs, labels in iter(train_loader):\n",
    "            \n",
    "            if use_cuda and torch.cuda.is_available():\n",
    "              imgs = imgs.cuda()\n",
    "              labels = labels.cuda()\n",
    "\n",
    "            out = model(imgs)             # forward pass\n",
    "            loss = criterion(out, labels) # compute the total loss\n",
    "            loss.backward()               # backward pass (compute parameter updates)\n",
    "            optimizer.step()              # make the updates for each parameter\n",
    "            optimizer.zero_grad()         # a clean up step for PyTorch\n",
    "            n += 1\n",
    "        \n",
    "        # track accuracy\n",
    "        train_acc.append(get_accuracy(model, train_loader))\n",
    "        val_acc.append(get_accuracy(model, val_loader))\n",
    "        print(epoch, train_acc[-1], val_acc[-1])\n",
    "            \n",
    "    return train_acc, val_acc"
   ]
  },
  {
   "cell_type": "code",
   "execution_count": null,
   "metadata": {
    "colab": {},
    "colab_type": "code",
    "id": "yKekyWFBkBQW"
   },
   "outputs": [],
   "source": [
    "def get_accuracy(model, data_loader):\n",
    "    correct = 0\n",
    "    total = 0\n",
    "    for imgs, labels in data_loader:\n",
    "        \n",
    "        if use_cuda and torch.cuda.is_available():\n",
    "          imgs = imgs.cuda()\n",
    "          labels = labels.cuda()\n",
    "\n",
    "        output = model(imgs)\n",
    "        #select index with maximum prediction score\n",
    "        pred = output.max(1, keepdim=True)[1]\n",
    "        correct += pred.eq(labels.view_as(pred)).sum().item()\n",
    "        total += imgs.shape[0]\n",
    "    return correct / total"
   ]
  },
  {
   "cell_type": "markdown",
   "metadata": {
    "colab_type": "text",
    "id": "bk1RNgAj54rZ"
   },
   "source": [
    "### Part (c) “Overfit” to a Small Dataset - 5 pt\n",
    "\n",
    "One way to sanity check our neural network model and training code is to check whether the model is capable\n",
    "of “overfitting” or “memorizing” a small dataset. A properly constructed CNN with correct training code\n",
    "should be able to memorize the answers to a small number of images quickly.\n",
    "\n",
    "Construct a small dataset (e.g. just the images that you have collected). Then show that your model and\n",
    "training code is capable of memorizing the labels of this small data set.\n",
    "\n",
    "With a large batch size (e.g. the entire small dataset) and learning rate that is not too high, You should be\n",
    "able to obtain a 100% training accuracy on that small dataset relatively quickly (within 200 iterations)."
   ]
  },
  {
   "cell_type": "code",
   "execution_count": null,
   "metadata": {
    "colab": {},
    "colab_type": "code",
    "id": "X5eFokBPbmUK",
    "scrolled": true
   },
   "outputs": [],
   "source": []
  },
  {
   "cell_type": "markdown",
   "metadata": {
    "colab_type": "text",
    "id": "nvDLw-Vz6eVS"
   },
   "source": [
    "### 3. Hyperparameter Search [10 pt]\n",
    "\n",
    "### Part (a) - 1 pt\n",
    "\n",
    "List 3 hyperparameters that you think are most worth tuning. Choose at least one hyperparameter related to\n",
    "the model architecture."
   ]
  },
  {
   "cell_type": "code",
   "execution_count": null,
   "metadata": {
    "colab": {},
    "colab_type": "code",
    "id": "X5eFokBPbmUK",
    "scrolled": false
   },
   "outputs": [],
   "source": [
    "# sample code\n",
    "use_cuda = True\n",
    "\n",
    "model = CNNClassifier()\n",
    "if use_cuda and torch.cuda.is_available():\n",
    "  model.cuda()\n",
    "\n",
    "t_acc, v_acc = train(model, train_loader, val_loader, num_epochs=30)"
   ]
  }
 ],
 "metadata": {
  "accelerator": "GPU",
  "colab": {
   "collapsed_sections": [],
   "name": "Lab 3 - Gesture Recognition_v2.ipynb",
   "provenance": []
  },
  "kernelspec": {
   "display_name": "Python 3",
   "language": "python",
   "name": "python3"
  },
  "language_info": {
   "codemirror_mode": {
    "name": "ipython",
    "version": 3
   },
   "file_extension": ".py",
   "mimetype": "text/x-python",
   "name": "python",
   "nbconvert_exporter": "python",
   "pygments_lexer": "ipython3",
   "version": "3.7.4"
  }
 },
 "nbformat": 4,
 "nbformat_minor": 1
}
